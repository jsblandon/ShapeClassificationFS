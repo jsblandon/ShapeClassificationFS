{
  "nbformat": 4,
  "nbformat_minor": 0,
  "metadata": {
    "colab": {
      "name": "mainReliefFCKA-AnimalsDB.ipynb",
      "provenance": [],
      "collapsed_sections": [],
      "authorship_tag": "ABX9TyPzwpjx/IQmWxmMlfc4qr/g",
      "include_colab_link": true
    },
    "kernelspec": {
      "name": "python3",
      "display_name": "Python 3"
    }
  },
  "cells": [
    {
      "cell_type": "markdown",
      "metadata": {
        "id": "view-in-github",
        "colab_type": "text"
      },
      "source": [
        "<a href=\"https://colab.research.google.com/github/jsblandon/ShapeClassificationFS/blob/master/mainReliefFCKA_AnimalsDB.ipynb\" target=\"_parent\"><img src=\"https://colab.research.google.com/assets/colab-badge.svg\" alt=\"Open In Colab\"/></a>"
      ]
    },
    {
      "cell_type": "markdown",
      "metadata": {
        "id": "aZwCZYPDr_kU",
        "colab_type": "text"
      },
      "source": [
        "# **Bag of Contour Fragments Feature Selection using ReliefF and Centered Kernel Alignment - Animals DB**"
      ]
    },
    {
      "cell_type": "markdown",
      "metadata": {
        "id": "Ct8RNwVLsTu6",
        "colab_type": "text"
      },
      "source": [
        "**Authors:** \n",
        "\n",
        "\n",
        "*   Juan Sebastian Blandon Luengas, Automatic Researh Group, Universidad Tecnologica de Pereira, $\\texttt{jsblandon@utp.edu.co}$\n",
        "*   Andres Marino Alvarez Meza, Control and Digital Signal Processing Group, Universidad Nacional de Colombia - Sede Manizales, $\\texttt{amalvarezme@unal.edu.co}$\n",
        "\n"
      ]
    },
    {
      "cell_type": "markdown",
      "metadata": {
        "id": "534IoAbAtFb8",
        "colab_type": "text"
      },
      "source": [
        "**Recommendation before starting**"
      ]
    },
    {
      "cell_type": "markdown",
      "metadata": {
        "id": "iTupkT_ntXKj",
        "colab_type": "text"
      },
      "source": [
        "Preventing Google Colab disconection:\n",
        "\n",
        "\n",
        "\n",
        "1.   Press key combination $\\texttt{Ctrl+Shift+i}$. Then, in the emerging window press $\\texttt{Console}$\n",
        "\n",
        "2.   Once the $\\texttt{Console}$ has open, introduce the next code:\n",
        "\n",
        "\n",
        "  ```\n",
        "  function ClickConnect(){\n",
        "  console.log(\"Working\"); \n",
        "  document.querySelector(\"colab-toolbar-button#connect\").click() \n",
        "  }\n",
        "  setInterval(ClickConnect,60000)\n",
        "  ```\n",
        "\n",
        "\n",
        "\n",
        "3.   Then, press $\\texttt{Enter}$. If the process is correct the message $\\texttt{working}$ appears in console, but if it is incorrect introduce the next code:\n",
        "\n",
        "\n",
        "\n",
        "  ```\n",
        "  function ClickConnect(){\n",
        "  console.log(\"Working\"); \n",
        "  document.querySelector(\"colab-toolbar-button\").click() \n",
        "  }setInterval(ClickConnect,60000)\n",
        "  ```"
      ]
    },
    {
      "cell_type": "markdown",
      "metadata": {
        "id": "eWzPRoBC7XhQ",
        "colab_type": "text"
      },
      "source": [
        "**Loading auxiliary functions and database from a .zip file**"
      ]
    },
    {
      "cell_type": "code",
      "metadata": {
        "id": "Ly7bEcUy7NKs",
        "colab_type": "code",
        "outputId": "a0d7b919-971b-4ae5-9bde-89b35a1522b4",
        "colab": {
          "base_uri": "https://localhost:8080/",
          "height": 547
        }
      },
      "source": [
        "# This code cell loads the Auxiliary Functions:\n",
        "FILEID = \"10bDUcXkDixgtZziiYJQGXL1YX6JpjkoS\"\n",
        "!wget --load-cookies /tmp/cookies.txt \"https://docs.google.com/uc?export=download&confirm=$(wget --quiet --save-cookies /tmp/cookies.txt --keep-session-cookies --no-check-certificate 'https://docs.google.com/uc?export=download&id='$FILEID -O- | sed -rn 's/.*confirm=([0-9A-Za-z_]+).*/\\1\\n/p')&id=\"$FILEID -O codigos.zip && rm -rf /tmp/cookies.txt\n",
        "!unzip codigos.zip\n",
        "!dir"
      ],
      "execution_count": 0,
      "outputs": [
        {
          "output_type": "stream",
          "text": [
            "--2020-05-25 19:38:48--  https://docs.google.com/uc?export=download&confirm=&id=10bDUcXkDixgtZziiYJQGXL1YX6JpjkoS\n",
            "Resolving docs.google.com (docs.google.com)... 173.194.218.101, 173.194.218.102, 173.194.218.138, ...\n",
            "Connecting to docs.google.com (docs.google.com)|173.194.218.101|:443... connected.\n",
            "HTTP request sent, awaiting response... 302 Moved Temporarily\n",
            "Location: https://doc-0s-bk-docs.googleusercontent.com/docs/securesc/c4965gkg8bc30cjd85denn0qc27h0t78/4ks90ehjdt7erqs5nk2ij46n2vmaf2v4/1590435525000/16942134963990678590/17004495406964486433Z/10bDUcXkDixgtZziiYJQGXL1YX6JpjkoS?e=download [following]\n",
            "--2020-05-25 19:38:48--  https://doc-0s-bk-docs.googleusercontent.com/docs/securesc/c4965gkg8bc30cjd85denn0qc27h0t78/4ks90ehjdt7erqs5nk2ij46n2vmaf2v4/1590435525000/16942134963990678590/17004495406964486433Z/10bDUcXkDixgtZziiYJQGXL1YX6JpjkoS?e=download\n",
            "Resolving doc-0s-bk-docs.googleusercontent.com (doc-0s-bk-docs.googleusercontent.com)... 172.217.204.132, 2607:f8b0:400c:c15::84\n",
            "Connecting to doc-0s-bk-docs.googleusercontent.com (doc-0s-bk-docs.googleusercontent.com)|172.217.204.132|:443... connected.\n",
            "HTTP request sent, awaiting response... 302 Found\n",
            "Location: https://docs.google.com/nonceSigner?nonce=9mqd5a593fs46&continue=https://doc-0s-bk-docs.googleusercontent.com/docs/securesc/c4965gkg8bc30cjd85denn0qc27h0t78/4ks90ehjdt7erqs5nk2ij46n2vmaf2v4/1590435525000/16942134963990678590/17004495406964486433Z/10bDUcXkDixgtZziiYJQGXL1YX6JpjkoS?e%3Ddownload&hash=2pnh02hldlu9qseh80ae3rufdk1e469j [following]\n",
            "--2020-05-25 19:38:48--  https://docs.google.com/nonceSigner?nonce=9mqd5a593fs46&continue=https://doc-0s-bk-docs.googleusercontent.com/docs/securesc/c4965gkg8bc30cjd85denn0qc27h0t78/4ks90ehjdt7erqs5nk2ij46n2vmaf2v4/1590435525000/16942134963990678590/17004495406964486433Z/10bDUcXkDixgtZziiYJQGXL1YX6JpjkoS?e%3Ddownload&hash=2pnh02hldlu9qseh80ae3rufdk1e469j\n",
            "Connecting to docs.google.com (docs.google.com)|173.194.218.101|:443... connected.\n",
            "HTTP request sent, awaiting response... 302 Found\n",
            "Location: https://doc-0s-bk-docs.googleusercontent.com/docs/securesc/c4965gkg8bc30cjd85denn0qc27h0t78/4ks90ehjdt7erqs5nk2ij46n2vmaf2v4/1590435525000/16942134963990678590/17004495406964486433Z/10bDUcXkDixgtZziiYJQGXL1YX6JpjkoS?e=download&nonce=9mqd5a593fs46&user=17004495406964486433Z&hash=0mhu7msov7sl47sglnmedt9k8lenre1l [following]\n",
            "--2020-05-25 19:38:48--  https://doc-0s-bk-docs.googleusercontent.com/docs/securesc/c4965gkg8bc30cjd85denn0qc27h0t78/4ks90ehjdt7erqs5nk2ij46n2vmaf2v4/1590435525000/16942134963990678590/17004495406964486433Z/10bDUcXkDixgtZziiYJQGXL1YX6JpjkoS?e=download&nonce=9mqd5a593fs46&user=17004495406964486433Z&hash=0mhu7msov7sl47sglnmedt9k8lenre1l\n",
            "Connecting to doc-0s-bk-docs.googleusercontent.com (doc-0s-bk-docs.googleusercontent.com)|172.217.204.132|:443... connected.\n",
            "HTTP request sent, awaiting response... 200 OK\n",
            "Length: 5727 (5.6K) [application/zip]\n",
            "Saving to: ‘codigos.zip’\n",
            "\n",
            "codigos.zip         100%[===================>]   5.59K  --.-KB/s    in 0s      \n",
            "\n",
            "2020-05-25 19:38:48 (62.3 MB/s) - ‘codigos.zip’ saved [5727/5727]\n",
            "\n",
            "Archive:  codigos.zip\n",
            "   creating: PythonAuxiliaryFunctions/\n",
            "  inflating: PythonAuxiliaryFunctions/CKA.py  \n",
            "  inflating: PythonAuxiliaryFunctions/DistanceRepresentation.py  \n",
            "  inflating: PythonAuxiliaryFunctions/ResultsReports.py  \n",
            "codigos.zip  PythonAuxiliaryFunctions  sample_data\n"
          ],
          "name": "stdout"
        }
      ]
    },
    {
      "cell_type": "code",
      "metadata": {
        "id": "T5CtqusuHHDz",
        "colab_type": "code",
        "outputId": "5deb479f-4db5-4455-ba12-096e433f28aa",
        "colab": {
          "base_uri": "https://localhost:8080/",
          "height": 513
        }
      },
      "source": [
        "# This code cell load the Database\n",
        "FILEID = \"1rIbmREOH2Kdd18yqs-PnhlZQ9H9Vg_vo\"\n",
        "!wget --load-cookies /tmp/cookies.txt \"https://docs.google.com/uc?export=download&confirm=$(wget --quiet --save-cookies /tmp/cookies.txt --keep-session-cookies --no-check-certificate 'https://docs.google.com/uc?export=download&id='$FILEID -O- | sed -rn 's/.*confirm=([0-9A-Za-z_]+).*/\\1\\n/p')&id=\"$FILEID -O codigos.zip && rm -rf /tmp/cookies.txt\n",
        "!unzip codigos.zip\n",
        "!dir"
      ],
      "execution_count": 0,
      "outputs": [
        {
          "output_type": "stream",
          "text": [
            "--2020-05-25 19:39:00--  https://docs.google.com/uc?export=download&confirm=ZvCo&id=1rIbmREOH2Kdd18yqs-PnhlZQ9H9Vg_vo\n",
            "Resolving docs.google.com (docs.google.com)... 74.125.31.138, 74.125.31.113, 74.125.31.139, ...\n",
            "Connecting to docs.google.com (docs.google.com)|74.125.31.138|:443... connected.\n",
            "HTTP request sent, awaiting response... 302 Moved Temporarily\n",
            "Location: https://doc-0c-08-docs.googleusercontent.com/docs/securesc/bmg55l2tne7lhpu4gt1bv1ebgt12rlo1/e1rbuc9iu79ftds9jealg570maqs2jiq/1590435525000/16942134963990678590/17298038241750570518Z/1rIbmREOH2Kdd18yqs-PnhlZQ9H9Vg_vo?e=download [following]\n",
            "--2020-05-25 19:39:00--  https://doc-0c-08-docs.googleusercontent.com/docs/securesc/bmg55l2tne7lhpu4gt1bv1ebgt12rlo1/e1rbuc9iu79ftds9jealg570maqs2jiq/1590435525000/16942134963990678590/17298038241750570518Z/1rIbmREOH2Kdd18yqs-PnhlZQ9H9Vg_vo?e=download\n",
            "Resolving doc-0c-08-docs.googleusercontent.com (doc-0c-08-docs.googleusercontent.com)... 172.217.204.132, 2607:f8b0:400c:c15::84\n",
            "Connecting to doc-0c-08-docs.googleusercontent.com (doc-0c-08-docs.googleusercontent.com)|172.217.204.132|:443... connected.\n",
            "HTTP request sent, awaiting response... 302 Found\n",
            "Location: https://docs.google.com/nonceSigner?nonce=hil53gnn1aq0o&continue=https://doc-0c-08-docs.googleusercontent.com/docs/securesc/bmg55l2tne7lhpu4gt1bv1ebgt12rlo1/e1rbuc9iu79ftds9jealg570maqs2jiq/1590435525000/16942134963990678590/17298038241750570518Z/1rIbmREOH2Kdd18yqs-PnhlZQ9H9Vg_vo?e%3Ddownload&hash=5m1lu8prbf1v9811p1va3pd74tnn0hu3 [following]\n",
            "--2020-05-25 19:39:00--  https://docs.google.com/nonceSigner?nonce=hil53gnn1aq0o&continue=https://doc-0c-08-docs.googleusercontent.com/docs/securesc/bmg55l2tne7lhpu4gt1bv1ebgt12rlo1/e1rbuc9iu79ftds9jealg570maqs2jiq/1590435525000/16942134963990678590/17298038241750570518Z/1rIbmREOH2Kdd18yqs-PnhlZQ9H9Vg_vo?e%3Ddownload&hash=5m1lu8prbf1v9811p1va3pd74tnn0hu3\n",
            "Connecting to docs.google.com (docs.google.com)|74.125.31.138|:443... connected.\n",
            "HTTP request sent, awaiting response... 302 Found\n",
            "Location: https://doc-0c-08-docs.googleusercontent.com/docs/securesc/bmg55l2tne7lhpu4gt1bv1ebgt12rlo1/e1rbuc9iu79ftds9jealg570maqs2jiq/1590435525000/16942134963990678590/17298038241750570518Z/1rIbmREOH2Kdd18yqs-PnhlZQ9H9Vg_vo?e=download&nonce=hil53gnn1aq0o&user=17298038241750570518Z&hash=2l695ub1cuk3tofdskmhccad2c6eh5ri [following]\n",
            "--2020-05-25 19:39:00--  https://doc-0c-08-docs.googleusercontent.com/docs/securesc/bmg55l2tne7lhpu4gt1bv1ebgt12rlo1/e1rbuc9iu79ftds9jealg570maqs2jiq/1590435525000/16942134963990678590/17298038241750570518Z/1rIbmREOH2Kdd18yqs-PnhlZQ9H9Vg_vo?e=download&nonce=hil53gnn1aq0o&user=17298038241750570518Z&hash=2l695ub1cuk3tofdskmhccad2c6eh5ri\n",
            "Connecting to doc-0c-08-docs.googleusercontent.com (doc-0c-08-docs.googleusercontent.com)|172.217.204.132|:443... connected.\n",
            "HTTP request sent, awaiting response... 200 OK\n",
            "Length: unspecified [application/zip]\n",
            "Saving to: ‘codigos.zip’\n",
            "\n",
            "codigos.zip             [  <=>               ]  29.70M   147MB/s    in 0.2s    \n",
            "\n",
            "2020-05-25 19:39:01 (147 MB/s) - ‘codigos.zip’ saved [31138792]\n",
            "\n",
            "Archive:  codigos.zip\n",
            "   creating: Databases/\n",
            "  inflating: Databases/PreprocessingBoCFAnimalsDB(csv-version).csv  \n",
            "codigos.zip  Databases\tPythonAuxiliaryFunctions  sample_data\n"
          ],
          "name": "stdout"
        }
      ]
    },
    {
      "cell_type": "markdown",
      "metadata": {
        "id": "EwAGeyEJXZS0",
        "colab_type": "text"
      },
      "source": [
        "An additional package is installed"
      ]
    },
    {
      "cell_type": "code",
      "metadata": {
        "id": "Imh8JY9JXdxS",
        "colab_type": "code",
        "outputId": "9b24c0d3-51a0-4220-b09c-9df14cf67ee3",
        "colab": {
          "base_uri": "https://localhost:8080/",
          "height": 102
        }
      },
      "source": [
        "!pip install --user skrebate"
      ],
      "execution_count": 0,
      "outputs": [
        {
          "output_type": "stream",
          "text": [
            "Requirement already satisfied: skrebate in /root/.local/lib/python3.6/site-packages (0.6)\n",
            "Requirement already satisfied: numpy in /usr/local/lib/python3.6/dist-packages (from skrebate) (1.18.4)\n",
            "Requirement already satisfied: scikit-learn in /usr/local/lib/python3.6/dist-packages (from skrebate) (0.22.2.post1)\n",
            "Requirement already satisfied: scipy in /usr/local/lib/python3.6/dist-packages (from skrebate) (1.4.1)\n",
            "Requirement already satisfied: joblib>=0.11 in /usr/local/lib/python3.6/dist-packages (from scikit-learn->skrebate) (0.15.1)\n"
          ],
          "name": "stdout"
        }
      ]
    },
    {
      "cell_type": "markdown",
      "metadata": {
        "id": "l6DYrPcjVgNL",
        "colab_type": "text"
      },
      "source": [
        "The needed packages and functions are imported"
      ]
    },
    {
      "cell_type": "code",
      "metadata": {
        "id": "mGI3uk6NVaId",
        "colab_type": "code",
        "outputId": "fd2e4605-7076-4918-8391-dd2aad60d4ce",
        "colab": {
          "base_uri": "https://localhost:8080/",
          "height": 105
        }
      },
      "source": [
        "import pandas as pd\n",
        "import numpy as np\n",
        "import matplotlib.pyplot as plt\n",
        "import warnings\n",
        "import seaborn as sns\n",
        "import os\n",
        "from sklearn.model_selection import train_test_split, GridSearchCV,cross_val_score, cross_val_predict, RandomizedSearchCV\n",
        "from sklearn.metrics import confusion_matrix, accuracy_score, classification_report\n",
        "from sklearn.pipeline import Pipeline\n",
        "from sklearn.base import  BaseEstimator, TransformerMixin\n",
        "from mlxtend.feature_selection import SequentialFeatureSelector as SFS\n",
        "from skrebate import ReliefF\n",
        "from sklearn.metrics import roc_curve, auc\n",
        "from scipy import interp\n",
        "from itertools import cycle\n",
        "from sklearn.metrics import pairwise_distances\n",
        "from sklearn.metrics import confusion_matrix\n",
        "from sklearn.utils.multiclass import unique_labels\n",
        "from sklearn.linear_model import LogisticRegression, SGDClassifier, LassoCV\n",
        "from sklearn.svm import LinearSVC\n",
        "from sklearn.neighbors import KNeighborsClassifier\n",
        "from sklearn.ensemble import RandomForestClassifier\n",
        "from sklearn.preprocessing import StandardScaler\n",
        "from sklearn.model_selection import StratifiedShuffleSplit\n",
        "from sklearn.feature_selection import SelectFromModel\n",
        "from sklearn.externals import joblib\n",
        "from tqdm import tqdm\n",
        "from numpy import array"
      ],
      "execution_count": 0,
      "outputs": [
        {
          "output_type": "stream",
          "text": [
            "/usr/local/lib/python3.6/dist-packages/statsmodels/tools/_testing.py:19: FutureWarning: pandas.util.testing is deprecated. Use the functions in the public API at pandas.testing instead.\n",
            "  import pandas.util.testing as tm\n",
            "/usr/local/lib/python3.6/dist-packages/sklearn/externals/joblib/__init__.py:15: FutureWarning: sklearn.externals.joblib is deprecated in 0.21 and will be removed in 0.23. Please import this functionality directly from joblib, which can be installed with: pip install joblib. If this warning is raised when loading pickled models, you may need to re-serialize those models with scikit-learn 0.21+.\n",
            "  warnings.warn(msg, category=FutureWarning)\n"
          ],
          "name": "stderr"
        }
      ]
    },
    {
      "cell_type": "markdown",
      "metadata": {
        "id": "HI4DW3qkXI2z",
        "colab_type": "text"
      },
      "source": [
        "Avoiding unnecessary warning messages"
      ]
    },
    {
      "cell_type": "code",
      "metadata": {
        "id": "FDSWPUfcXHG5",
        "colab_type": "code",
        "colab": {}
      },
      "source": [
        "warnings.filterwarnings(\"ignore\")"
      ],
      "execution_count": 0,
      "outputs": []
    },
    {
      "cell_type": "markdown",
      "metadata": {
        "id": "qSukSRhrYAfc",
        "colab_type": "text"
      },
      "source": [
        "Setting the seed"
      ]
    },
    {
      "cell_type": "code",
      "metadata": {
        "id": "-fL-IdSzYCSR",
        "colab_type": "code",
        "colab": {}
      },
      "source": [
        "np.random.seed(42)"
      ],
      "execution_count": 0,
      "outputs": []
    },
    {
      "cell_type": "markdown",
      "metadata": {
        "id": "Iyb89KfAYyap",
        "colab_type": "text"
      },
      "source": [
        "Inline plots"
      ]
    },
    {
      "cell_type": "code",
      "metadata": {
        "id": "cuqt4UgcY0Sa",
        "colab_type": "code",
        "colab": {}
      },
      "source": [
        "%matplotlib inline"
      ],
      "execution_count": 0,
      "outputs": []
    },
    {
      "cell_type": "markdown",
      "metadata": {
        "id": "ZJCvadeZH8B0",
        "colab_type": "text"
      },
      "source": [
        "# **STEP 1: Database loading**"
      ]
    },
    {
      "cell_type": "code",
      "metadata": {
        "id": "pO_8jCbS-eah",
        "colab_type": "code",
        "colab": {}
      },
      "source": [
        "import os\n",
        "import sys\n",
        "# Auxiliary function path\n",
        "af_dir ='/content/PythonAuxiliaryFunctions'\n",
        "sys.path.append(af_dir)"
      ],
      "execution_count": 0,
      "outputs": []
    },
    {
      "cell_type": "markdown",
      "metadata": {
        "id": "SgbyXSPAY9wI",
        "colab_type": "text"
      },
      "source": [
        "Calling the imported functions"
      ]
    },
    {
      "cell_type": "code",
      "metadata": {
        "id": "zfpwiHQXY6Qy",
        "colab_type": "code",
        "colab": {}
      },
      "source": [
        "from DistanceRepresentation import *\n",
        "from CKA import *\n",
        "from ResultsReports import *"
      ],
      "execution_count": 0,
      "outputs": []
    },
    {
      "cell_type": "markdown",
      "metadata": {
        "id": "6hrIQRtAUpou",
        "colab_type": "text"
      },
      "source": [
        "It is created a directory to store the results"
      ]
    },
    {
      "cell_type": "code",
      "metadata": {
        "id": "qOi3t_HiTmIk",
        "colab_type": "code",
        "colab": {}
      },
      "source": [
        "!mkdir \"/content/Databases/Animals_DB\"\n",
        "!mkdir \"/content/Databases/Animals_DB/FeatureSelection/\"\n",
        "!mkdir \"/content/Databases/Animals_DB/FeatureSelection/AnimalsDB_BoCF_E_Results/\"\n",
        "!mkdir \"/content/Databases/Animals_DB/NLDR/\"\n",
        "!mkdir \"/content/Databases/Animals_DB/NLDR/Animals_DB_CKA_Results/\""
      ],
      "execution_count": 0,
      "outputs": []
    },
    {
      "cell_type": "code",
      "metadata": {
        "id": "x9DRG6aCZGBa",
        "colab_type": "code",
        "colab": {}
      },
      "source": [
        "# Results storing path\n",
        "img_dir ='/content/Databases/Animals_DB'\n",
        "# Database path\n",
        "data_dir='/content/Databases/'\n",
        "# Loading the DB\n",
        "X       = pd.read_csv(data_dir + \"PreprocessingBoCFAnimalsDB(csv-version)\")\n",
        "y       = np.array(X.iloc[:,-1])\n",
        "X.drop(columns=X.columns[-1],inplace=True)"
      ],
      "execution_count": 0,
      "outputs": []
    },
    {
      "cell_type": "markdown",
      "metadata": {
        "id": "2iL3nLolbSer",
        "colab_type": "text"
      },
      "source": [
        "# **STEP 2: variable declaration and model description**"
      ]
    },
    {
      "cell_type": "code",
      "metadata": {
        "id": "x6eAnH9obOOH",
        "colab_type": "code",
        "colab": {}
      },
      "source": [
        "# Variable declaration\n",
        "n_partitions = 3\n",
        "test_per     = 0.5\n",
        "n_classes    = len(np.unique(y))\n",
        "f_step       = 1500\n",
        "ftr_vec      = np.arange(0,int((X.shape[1]))+f_step,f_step).astype(int) \n",
        "ftr_vec      = ftr_vec[1:]\n",
        "fold         = 0\n",
        "train_idx    = []\n",
        "test_idx     = []\n",
        "alpha_L      = []\n",
        "alpha_LogR   = []\n",
        "alpha_lSVM   = []\n",
        "sel_fts_L    = []\n",
        "sel_fts_LogR = []\n",
        "sel_fts_lSVM = []\n",
        "thld_L       = []\n",
        "thld_LogR    = []\n",
        "thld_lSVM    = []\n",
        "sel_fts_Lt   = []\n",
        "sel_fts_LogRt= []\n",
        "sel_fts_lSVMt= []\n",
        "nfeats_L     = []\n",
        "nfeats_LogR  = []\n",
        "nfeats_lSVM  = []\n",
        "accuracy_L   = np.zeros((n_partitions))\n",
        "accuracy_LogR= np.zeros((n_partitions))\n",
        "accuracy_lSVM= np.zeros((n_partitions))\n",
        "cm_L         = np.zeros((n_partitions,n_classes,n_classes))\n",
        "cm_LogR      = np.zeros((n_partitions,n_classes,n_classes))\n",
        "cm_lSVM      = np.zeros((n_partitions,n_classes,n_classes))\n",
        "cr_L         = []\n",
        "cr_LogR      = []\n",
        "cr_lSVM      = []\n",
        "best_mod_L   = []\n",
        "best_mod_LogR= []\n",
        "best_mod_lSVM= []\n",
        "best_pms_L   = []\n",
        "best_pms_LogR= []\n",
        "best_pms_lSVM= [] "
      ],
      "execution_count": 0,
      "outputs": []
    },
    {
      "cell_type": "code",
      "metadata": {
        "id": "2bybUuJucJVG",
        "colab_type": "code",
        "colab": {}
      },
      "source": [
        "# Setting the data partition scheme to work like HoldOut validation\n",
        "sss = StratifiedShuffleSplit(n_splits = n_partitions, test_size = test_per, random_state=42)"
      ],
      "execution_count": 0,
      "outputs": []
    },
    {
      "cell_type": "code",
      "metadata": {
        "id": "DzZv7Y9rcOKO",
        "colab_type": "code",
        "colab": {}
      },
      "source": [
        "# FEATURE SELECTION: ReliefF method\n",
        "\n",
        "# Feature weigths storage\n",
        "scores_rlff_L    = []\n",
        "scores_rlff_LogR = []\n",
        "scores_rlff_lSVM = []\n",
        "\n",
        "# Steps to be include into the Pipeline\n",
        "steps = [\n",
        "        [('Preprocessing', StandardScaler()),\n",
        "          ('FeatureSelectnRel',ReliefF()),\n",
        "          ('Classification',SGDClassifier())],      # Linear Classifier\n",
        "        [('Preprocessing', StandardScaler()),\n",
        "          ('FeatureSelectnRel',ReliefF()),\n",
        "          ('Classification',LogisticRegression())], # Logistic Regression\n",
        "        [('Preprocessing', StandardScaler()),\n",
        "          ('FeatureSelectnRel',ReliefF()),\n",
        "          ('Classification',LinearSVC())],          # SVM\n",
        "        ]\n",
        "\n",
        "# Parameter grid declaration\n",
        "parameters = [\n",
        "              {'FeatureSelectnRel__n_features_to_select': ftr_vec,\n",
        "              'FeatureSelectnRel__n_neighbors':[1],\n",
        "              'Classification__penalty': ['l1', 'l2', 'elasticnet'] },\n",
        "              {'FeatureSelectnRel__n_features_to_select': ftr_vec,\n",
        "              'FeatureSelectnRel__n_neighbors':[1],\n",
        "              'Classification__C': [0.01,0.1,1,10]},\n",
        "              {'FeatureSelectnRel__n_features_to_select': ftr_vec,\n",
        "              'FeatureSelectnRel__n_neighbors':[1],\n",
        "              'Classification__C': [0.1,1,10,100,1000]}\n",
        "              ]\n",
        "\n",
        "# Model labels\n",
        "label_models = ['Linear','LogisticRegression','LinearSVC']"
      ],
      "execution_count": 0,
      "outputs": []
    },
    {
      "cell_type": "code",
      "metadata": {
        "id": "CjNJbUmjdqee",
        "colab_type": "code",
        "colab": {}
      },
      "source": [
        "# Directory to save results and plots\n",
        "\n",
        "rslt_dir     = img_dir + '/FeatureSelection/AnimalsDB_BoCF_E_Results/Results_BoCF_E_Py'\n",
        "img_path     = img_dir + '/FeatureSelection/AnimalsDB_BoCF_E_Results'"
      ],
      "execution_count": 0,
      "outputs": []
    },
    {
      "cell_type": "markdown",
      "metadata": {
        "id": "EVl3INjeerEY",
        "colab_type": "text"
      },
      "source": [
        "# **Step 3: Training/Testing Feature Selection loop**\n"
      ]
    },
    {
      "cell_type": "code",
      "metadata": {
        "id": "i40mm1HHevcd",
        "colab_type": "code",
        "outputId": "aec41df4-d686-4637-8197-79276f43a4cc",
        "colab": {
          "base_uri": "https://localhost:8080/",
          "height": 1000
        }
      },
      "source": [
        "# Traininig/Testing loop\n",
        "\n",
        "for train_index, test_index in tqdm(sss.split(X,y)):\n",
        "    # Training/testing index storage\n",
        "    train_idx += [train_index]\n",
        "    test_idx  += [test_index]\n",
        "    \n",
        "    # Number of partitions flag\n",
        "    fold = fold + 1\n",
        "    print(\"Iteration = \", str(fold) +'/'+ str(n_partitions))\n",
        "    \n",
        "    # Iteration file name \n",
        "    filename = img_path + \"/Fold\" + str(fold)\n",
        "    \n",
        "    # Train/Test \n",
        "    X_train, X_test = X.iloc[train_index], X.iloc[test_index]\n",
        "    y_train, y_test = y[train_index], y[test_index]\n",
        "\n",
        "    # ---------------------------------------------------------------------------------------------------------------------------\n",
        "    # Training\n",
        "    \n",
        "    # Linear\n",
        "    print('Linear Model')\n",
        "    # Using GridSearchCV \n",
        "    # hs_Lineal = GridSearchCV(Pipeline(steps[0]), parameters[0], n_jobs = 6, cv = 5, scoring = 'balanced_accuracy', verbose = 50)\n",
        "    # Using RandomizedSearchCV\n",
        "    hs_Lineal = RandomizedSearchCV(Pipeline(steps[0]), param_distributions=parameters[0],n_iter=10, cv=5, iid=False, n_jobs=-1)\n",
        "    hs_Lineal.fit(X_train,y_train)\n",
        "    nfeats_L     += [hs_Lineal.best_estimator_.named_steps['FeatureSelectnRel'].n_features_to_select]\n",
        "    sel_fts_L    += [hs_Lineal.best_estimator_.named_steps['FeatureSelectnRel'].top_features_]\n",
        "    scores_rlff_L+= [hs_Lineal.best_estimator_.named_steps['FeatureSelectnRel'].feature_importances_]\n",
        "\n",
        "\n",
        "    # Logistic Regression\n",
        "    print('Logistic Regression Model')\n",
        "    # Usaing GridSearchCV \n",
        "    # hs_LogR = GridSearchCV(Pipeline(steps[1]), parameters[1], n_jobs = 6, cv = 5, scoring = 'balanced_accuracy', verbose = 50)\n",
        "    # Using RandomizedSearchCV\n",
        "    hs_LogR = RandomizedSearchCV(Pipeline(steps[1]), param_distributions=parameters[1],n_iter=10, cv=5, iid=False,n_jobs=-1)\n",
        "    hs_LogR.fit(X_train,y_train)\n",
        "    # Features selected by ReliefF method\n",
        "    nfeats_LogR     += [hs_LogR.best_estimator_.named_steps['FeatureSelectnRel'].n_features_to_select]\n",
        "    sel_fts_LogR    += [hs_LogR.best_estimator_.named_steps['FeatureSelectnRel'].top_features_]\n",
        "    scores_rlff_LogR+= [hs_LogR.best_estimator_.named_steps['FeatureSelectnRel'].feature_importances_]\n",
        "  \n",
        "\n",
        "    # Linear SVM\n",
        "    print('Linear SVM Model')\n",
        "    # Using GridSearchCV \n",
        "    #hs_lSVM = GridSearchCV(Pipeline(steps[2]), parameters[2], n_jobs = 6, cv = 5, scoring = 'balanced_accuracy', verbose = 50)\n",
        "    # Using RandomizedSearchCV\n",
        "    hs_lSVM = RandomizedSearchCV(Pipeline(steps[2]), param_distributions=parameters[2],n_iter=10, cv=5, iid=False, n_jobs=-1)  \n",
        "    hs_lSVM.fit(X_train,y_train)\n",
        "    # Features selected by ReliefF method\n",
        "    nfeats_lSVM     += [hs_lSVM.best_estimator_.named_steps['FeatureSelectnRel'].n_features_to_select]\n",
        "    sel_fts_lSVM    += [hs_lSVM.best_estimator_.named_steps['FeatureSelectnRel'].top_features_]\n",
        "    scores_rlff_lSVM+= [hs_lSVM.best_estimator_.named_steps['FeatureSelectnRel'].feature_importances_]\n",
        "\n",
        "    # ---------------------------------------------------------------------------------------------------------------------------\n",
        "    # Validation\n",
        "    \n",
        "    # Linear\n",
        "    y_pred_L           = hs_Lineal.best_estimator_.predict(X_test)\n",
        "    accuracy_L[fold-1] = accuracy_score(y_test,y_pred_L)\n",
        "    cm_temp            = confusion_matrix(y_test,y_pred_L)\n",
        "    cm_L[fold-1,:,:]   = 100*cm_temp.astype('float') / cm_temp.sum(axis=1)[:, np.newaxis]\n",
        "    plot_confusion_matrix(y_test, y_pred_L, classes=np.unique(y),normalize=True,title='ACC = %.1f %% Fold %d' % (100*accuracy_L[fold-1],fold) + '_'+ label_models[0])\n",
        "    plt.autoscale()\n",
        "    save_fig(img_path,label_models[0]+'_Fold'+str(fold))                      \n",
        "    plt.show()\n",
        "    cr_L += [classification_report(y_test,y_pred_L)]\n",
        "    print(cr_L[-1])\n",
        "    # Best model storage\n",
        "    # best_mod_L += [hs_Lineal.best_estimator_, accuracy_L,cm_L,cr_L, sel_fts_L]\n",
        "    # best_mod_L += [hs_Lineal.best_estimator_]\n",
        "    best_pms_L += [hs_Lineal.best_params_,nfeats_L,sel_fts_L,scores_rlff_L,accuracy_L,cm_L,cr_L]\n",
        "\n",
        "\n",
        "    # Logistic Regression\n",
        "    y_pred_LogR          = hs_LogR.best_estimator_.predict(X_test)\n",
        "    accuracy_LogR[fold-1]= accuracy_score(y_test,y_pred_LogR)\n",
        "    cm_temp              = confusion_matrix(y_test,y_pred_LogR)\n",
        "    cm_LogR[fold-1,:,:]  = 100*cm_temp.astype('float') / cm_temp.sum(axis=1)[:, np.newaxis]\n",
        "    plot_confusion_matrix(y_test, y_pred_LogR, classes=np.unique(y),normalize=True,title='ACC = %.1f %% Fold %d' % (100*accuracy_LogR[fold-1],fold) + '_'+ label_models[1])\n",
        "    plt.autoscale()\n",
        "    save_fig(img_path,label_models[1]+'_Fold'+str(fold))                      \n",
        "    plt.show()\n",
        "    cr_LogR += [classification_report(y_test,y_pred_LogR)]\n",
        "    print(cr_LogR[-1])\n",
        "    # Best model storage\n",
        "    # best_mod_LogR += [hs_LogR.best_estimator_, accuracy_LogR,cm_LogR,cr_LogR, sel_fts_LogR]\n",
        "    # best_mod_LogR += [hs_LogR.best_estimator_]\n",
        "    best_pms_LogR += [hs_LogR.best_params_,nfeats_LogR,sel_fts_LogR,scores_rlff_LogR,accuracy_LogR,cm_LogR,cr_LogR]\n",
        "\n",
        "\n",
        "    # Linear SVM\n",
        "    y_pred_lSVM          = hs_lSVM.best_estimator_.predict(X_test)\n",
        "    accuracy_lSVM[fold-1]= accuracy_score(y_test,y_pred_lSVM)\n",
        "    cm_temp              = confusion_matrix(y_test,y_pred_lSVM)\n",
        "    cm_LogR[fold-1,:,:]  = 100*cm_temp.astype('float') / cm_temp.sum(axis=1)[:, np.newaxis]\n",
        "    plot_confusion_matrix(y_test, y_pred_lSVM, classes=np.unique(y),normalize=True,title='ACC = %.1f %% Fold %d' % (100*accuracy_lSVM[fold-1],fold) + '_'+ label_models[2])\n",
        "    plt.autoscale()\n",
        "    save_fig(img_path,label_models[2]+'_Fold'+str(fold))                      \n",
        "    plt.show()\n",
        "    cr_lSVM += [classification_report(y_test,y_pred_lSVM)]\n",
        "    print(cr_lSVM[-1])\n",
        "    # Best model storage\n",
        "    # best_mod_lSVM += [hs_lSVM.best_estimator_, accuracy_lSVM,cm_lSVM,cr_lSVM, sel_fts_lSVM]\n",
        "    # best_mod_lSVM += [hs_lSVM.best_estimator_]\n",
        "    best_pms_lSVM += [hs_lSVM.best_params_,nfeats_lSVM,sel_fts_lSVM,scores_rlff_lSVM,accuracy_lSVM,cm_lSVM,cr_lSVM]"
      ],
      "execution_count": 0,
      "outputs": [
        {
          "output_type": "stream",
          "text": [
            "\r0it [00:00, ?it/s]"
          ],
          "name": "stderr"
        },
        {
          "output_type": "stream",
          "text": [
            "Iteration =  1/3\n",
            "Linear Model\n",
            "Logistic Regression Model\n",
            "Linear SVM Model\n",
            "Guardando... Linear_Fold1\n"
          ],
          "name": "stdout"
        },
        {
          "output_type": "display_data",
          "data": {
            "image/png": "[encoded data removed]",
            "text/plain": [
              "<Figure size 432x288 with 2 Axes>"
            ]
          },
          "metadata": {
            "tags": [],
            "needs_background": "light"
          }
        },
        {
          "output_type": "stream",
          "text": [
            "              precision    recall  f1-score   support\n",
            "\n",
            "           1       1.00      1.00      1.00         5\n",
            "           2       1.00      1.00      1.00         5\n",
            "           3       1.00      1.00      1.00         6\n",
            "           4       1.00      1.00      1.00         6\n",
            "           5       1.00      1.00      1.00         6\n",
            "           6       1.00      1.00      1.00         5\n",
            "           7       1.00      1.00      1.00         6\n",
            "           8       1.00      1.00      1.00         5\n",
            "           9       1.00      1.00      1.00         6\n",
            "\n",
            "    accuracy                           1.00        50\n",
            "   macro avg       1.00      1.00      1.00        50\n",
            "weighted avg       1.00      1.00      1.00        50\n",
            "\n",
            "Guardando... LogisticRegression_Fold1\n"
          ],
          "name": "stdout"
        },
        {
          "output_type": "display_data",
          "data": {
            "image/png": "[encoded data removed]",
            "text/plain": [
              "<Figure size 432x288 with 2 Axes>"
            ]
          },
          "metadata": {
            "tags": [],
            "needs_background": "light"
          }
        },
        {
          "output_type": "stream",
          "text": [
            "              precision    recall  f1-score   support\n",
            "\n",
            "           1       1.00      1.00      1.00         5\n",
            "           2       1.00      1.00      1.00         5\n",
            "           3       1.00      1.00      1.00         6\n",
            "           4       1.00      1.00      1.00         6\n",
            "           5       1.00      1.00      1.00         6\n",
            "           6       1.00      1.00      1.00         5\n",
            "           7       1.00      1.00      1.00         6\n",
            "           8       1.00      1.00      1.00         5\n",
            "           9       1.00      1.00      1.00         6\n",
            "\n",
            "    accuracy                           1.00        50\n",
            "   macro avg       1.00      1.00      1.00        50\n",
            "weighted avg       1.00      1.00      1.00        50\n",
            "\n",
            "Guardando... LinearSVC_Fold1\n"
          ],
          "name": "stdout"
        },
        {
          "output_type": "display_data",
          "data": {
            "image/png": "[encoded data removed]",
            "text/plain": [
              "<Figure size 432x288 with 2 Axes>"
            ]
          },
          "metadata": {
            "tags": [],
            "needs_background": "light"
          }
        },
        {
          "output_type": "stream",
          "text": [
            "\r1it [2:16:53, 8213.90s/it]"
          ],
          "name": "stderr"
        },
        {
          "output_type": "stream",
          "text": [
            "              precision    recall  f1-score   support\n",
            "\n",
            "           1       1.00      0.20      0.33         5\n",
            "           2       0.83      1.00      0.91         5\n",
            "           3       1.00      0.50      0.67         6\n",
            "           4       1.00      0.67      0.80         6\n",
            "           5       1.00      0.83      0.91         6\n",
            "           6       1.00      1.00      1.00         5\n",
            "           7       1.00      0.83      0.91         6\n",
            "           8       1.00      0.80      0.89         5\n",
            "           9       0.35      1.00      0.52         6\n",
            "\n",
            "    accuracy                           0.76        50\n",
            "   macro avg       0.91      0.76      0.77        50\n",
            "weighted avg       0.91      0.76      0.77        50\n",
            "\n",
            "Iteration =  2/3\n",
            "Linear Model\n",
            "Logistic Regression Model\n",
            "Linear SVM Model\n",
            "Guardando... Linear_Fold2\n"
          ],
          "name": "stdout"
        },
        {
          "output_type": "display_data",
          "data": {
            "image/png": "[encoded data removed]",
            "text/plain": [
              "<Figure size 432x288 with 2 Axes>"
            ]
          },
          "metadata": {
            "tags": [],
            "needs_background": "light"
          }
        },
        {
          "output_type": "stream",
          "text": [
            "              precision    recall  f1-score   support\n",
            "\n",
            "           1       1.00      0.17      0.29         6\n",
            "           2       0.80      0.80      0.80         5\n",
            "           3       1.00      1.00      1.00         5\n",
            "           4       1.00      0.80      0.89         5\n",
            "           5       0.80      0.67      0.73         6\n",
            "           6       1.00      0.67      0.80         6\n",
            "           7       1.00      0.83      0.91         6\n",
            "           8       0.80      0.80      0.80         5\n",
            "           9       0.31      0.83      0.45         6\n",
            "\n",
            "    accuracy                           0.72        50\n",
            "   macro avg       0.86      0.73      0.74        50\n",
            "weighted avg       0.85      0.72      0.73        50\n",
            "\n",
            "Guardando... LogisticRegression_Fold2\n"
          ],
          "name": "stdout"
        },
        {
          "output_type": "display_data",
          "data": {
            "image/png": "[encoded data removed]",
            "text/plain": [
              "<Figure size 432x288 with 2 Axes>"
            ]
          },
          "metadata": {
            "tags": [],
            "needs_background": "light"
          }
        },
        {
          "output_type": "stream",
          "text": [
            "              precision    recall  f1-score   support\n",
            "\n",
            "           1       1.00      0.17      0.29         6\n",
            "           2       0.67      0.80      0.73         5\n",
            "           3       1.00      1.00      1.00         5\n",
            "           4       1.00      0.80      0.89         5\n",
            "           5       0.75      0.50      0.60         6\n",
            "           6       1.00      0.67      0.80         6\n",
            "           7       0.83      0.83      0.83         6\n",
            "           8       1.00      0.80      0.89         5\n",
            "           9       0.31      0.83      0.45         6\n",
            "\n",
            "    accuracy                           0.70        50\n",
            "   macro avg       0.84      0.71      0.72        50\n",
            "weighted avg       0.83      0.70      0.71        50\n",
            "\n",
            "Guardando... LinearSVC_Fold2\n"
          ],
          "name": "stdout"
        },
        {
          "output_type": "display_data",
          "data": {
            "image/png": "[encoded data removed]",
            "text/plain": [
              "<Figure size 432x288 with 2 Axes>"
            ]
          },
          "metadata": {
            "tags": [],
            "needs_background": "light"
          }
        },
        {
          "output_type": "stream",
          "text": [
            "\r2it [4:32:47, 8195.68s/it]"
          ],
          "name": "stderr"
        },
        {
          "output_type": "stream",
          "text": [
            "              precision    recall  f1-score   support\n",
            "\n",
            "           1       1.00      0.17      0.29         6\n",
            "           2       0.67      0.80      0.73         5\n",
            "           3       1.00      1.00      1.00         5\n",
            "           4       1.00      0.80      0.89         5\n",
            "           5       0.75      0.50      0.60         6\n",
            "           6       1.00      0.67      0.80         6\n",
            "           7       1.00      0.83      0.91         6\n",
            "           8       0.80      0.80      0.80         5\n",
            "           9       0.31      0.83      0.45         6\n",
            "\n",
            "    accuracy                           0.70        50\n",
            "   macro avg       0.84      0.71      0.72        50\n",
            "weighted avg       0.83      0.70      0.71        50\n",
            "\n",
            "Iteration =  3/3\n",
            "Linear Model\n",
            "Logistic Regression Model\n",
            "Linear SVM Model\n",
            "Guardando... Linear_Fold3\n"
          ],
          "name": "stdout"
        },
        {
          "output_type": "display_data",
          "data": {
            "image/png": "[encoded data removed]",
            "text/plain": [
              "<Figure size 432x288 with 2 Axes>"
            ]
          },
          "metadata": {
            "tags": [],
            "needs_background": "light"
          }
        },
        {
          "output_type": "stream",
          "text": [
            "              precision    recall  f1-score   support\n",
            "\n",
            "           1       1.00      1.00      1.00         5\n",
            "           2       1.00      1.00      1.00         6\n",
            "           3       1.00      1.00      1.00         6\n",
            "           4       1.00      0.83      0.91         6\n",
            "           5       1.00      1.00      1.00         5\n",
            "           6       0.83      1.00      0.91         5\n",
            "           7       1.00      1.00      1.00         6\n",
            "           8       1.00      0.83      0.91         6\n",
            "           9       0.83      1.00      0.91         5\n",
            "\n",
            "    accuracy                           0.96        50\n",
            "   macro avg       0.96      0.96      0.96        50\n",
            "weighted avg       0.97      0.96      0.96        50\n",
            "\n",
            "Guardando... LogisticRegression_Fold3\n"
          ],
          "name": "stdout"
        },
        {
          "output_type": "display_data",
          "data": {
            "image/png": "[encoded data removed]",
            "text/plain": [
              "<Figure size 432x288 with 2 Axes>"
            ]
          },
          "metadata": {
            "tags": [],
            "needs_background": "light"
          }
        },
        {
          "output_type": "stream",
          "text": [
            "              precision    recall  f1-score   support\n",
            "\n",
            "           1       1.00      1.00      1.00         5\n",
            "           2       1.00      1.00      1.00         6\n",
            "           3       1.00      1.00      1.00         6\n",
            "           4       1.00      1.00      1.00         6\n",
            "           5       1.00      1.00      1.00         5\n",
            "           6       1.00      1.00      1.00         5\n",
            "           7       1.00      1.00      1.00         6\n",
            "           8       1.00      0.83      0.91         6\n",
            "           9       0.83      1.00      0.91         5\n",
            "\n",
            "    accuracy                           0.98        50\n",
            "   macro avg       0.98      0.98      0.98        50\n",
            "weighted avg       0.98      0.98      0.98        50\n",
            "\n",
            "Guardando... LinearSVC_Fold3\n"
          ],
          "name": "stdout"
        },
        {
          "output_type": "display_data",
          "data": {
            "image/png": "[encoded data removed]",
            "text/plain": [
              "<Figure size 432x288 with 2 Axes>"
            ]
          },
          "metadata": {
            "tags": [],
            "needs_background": "light"
          }
        },
        {
          "output_type": "stream",
          "text": [
            "3it [6:48:40, 8173.56s/it]"
          ],
          "name": "stderr"
        },
        {
          "output_type": "stream",
          "text": [
            "              precision    recall  f1-score   support\n",
            "\n",
            "           1       1.00      1.00      1.00         5\n",
            "           2       1.00      1.00      1.00         6\n",
            "           3       1.00      1.00      1.00         6\n",
            "           4       1.00      0.83      0.91         6\n",
            "           5       1.00      1.00      1.00         5\n",
            "           6       0.83      1.00      0.91         5\n",
            "           7       1.00      1.00      1.00         6\n",
            "           8       1.00      0.83      0.91         6\n",
            "           9       0.83      1.00      0.91         5\n",
            "\n",
            "    accuracy                           0.96        50\n",
            "   macro avg       0.96      0.96      0.96        50\n",
            "weighted avg       0.97      0.96      0.96        50\n",
            "\n"
          ],
          "name": "stdout"
        },
        {
          "output_type": "stream",
          "text": [
            "\n"
          ],
          "name": "stderr"
        }
      ]
    },
    {
      "cell_type": "markdown",
      "metadata": {
        "id": "hjPzEpZ-f5N2",
        "colab_type": "text"
      },
      "source": [
        "Storing the feature selection results"
      ]
    },
    {
      "cell_type": "code",
      "metadata": {
        "id": "0rfwKipvf74G",
        "colab_type": "code",
        "outputId": "614abe73-7596-4d13-b9c4-47b31a47e820",
        "colab": {
          "base_uri": "https://localhost:8080/",
          "height": 34
        }
      },
      "source": [
        "# Results dictionary creation\n",
        "L_dict = {'accuracy_L': accuracy_L,\n",
        "          'cm_L': cm_L,\n",
        "          'cr_L': cr_L,\n",
        "          'sel_fts_L':sel_fts_L,\n",
        "          'scores_rlff_L':scores_rlff_L,\n",
        "          'nfeats_L': nfeats_L}\n",
        "\n",
        "LogR_dict = {'accuracy_LogR': accuracy_LogR,\n",
        "            'cm_LogR': cm_LogR,\n",
        "            'cr_LogR': cr_LogR,\n",
        "            'sel_fts_LogR':sel_fts_LogR,\n",
        "            'scores_rlff_LogR':scores_rlff_LogR,\n",
        "            'nfeats_LogR': nfeats_LogR}\n",
        "\n",
        "lSVM_dict = {'accuracy_lSVM': accuracy_lSVM,\n",
        "            'cm_lSVM': cm_lSVM,\n",
        "            'cr_lSVM': cr_lSVM,\n",
        "            'sel_fts_lSVM':sel_fts_lSVM,\n",
        "            'scores_rlff_lSVM':scores_rlff_lSVM,\n",
        "            'nfeats_lSVM': nfeats_lSVM}\n",
        "\n",
        "Results = [L_dict, LogR_dict, lSVM_dict]\n",
        "\n",
        "joblib.dump(Results, rslt_dir + \".pkl\")"
      ],
      "execution_count": 0,
      "outputs": [
        {
          "output_type": "execute_result",
          "data": {
            "text/plain": [
              "['/content/Databases/Kimia99Shape_DB/FeatureSelection/Kimia99ShapeDB_BoCF_E_Results/Results_BoCF_E_Py.pkl']"
            ]
          },
          "metadata": {
            "tags": []
          },
          "execution_count": 19
        }
      ]
    },
    {
      "cell_type": "markdown",
      "metadata": {
        "id": "1dxXb09U7fyL",
        "colab_type": "text"
      },
      "source": [
        "The number of features is reported according to the best feature selection result"
      ]
    },
    {
      "cell_type": "code",
      "metadata": {
        "id": "jNPS7f8KPCMR",
        "colab_type": "code",
        "outputId": "a9d24d6e-5a54-49b9-fa8e-9db870ba95e3",
        "colab": {
          "base_uri": "https://localhost:8080/",
          "height": 170
        }
      },
      "source": [
        "n_folds     = 3\n",
        "hist_ftr_vec= np.zeros((len(Results),len(list(Results[0].values())[3][0])))\n",
        "mean_ftr_vec= np.zeros((3,1))\n",
        "\n",
        "# Loop to run over results lists:\n",
        "for i in range(0,len(Results)):\n",
        "    # Matrix creation to count feature appearances\n",
        "    temp_matrix = np.zeros((n_folds,len(list(Results[i].values())[3][0])))\n",
        "    # Loop to iterate over dictionary entries:\n",
        "    for l in Results[i]:\n",
        "        # Loop to run over list of selected features:\n",
        "        for j in range(0,n_folds):\n",
        "            if l == 'sel_fts_L' or l == 'sel_fts_LogR' or l == 'sel_fts_lSVM':\n",
        "                temp_vec    = Results[i][l][j][0:list(Results[i].values())[5][j]]\n",
        "                temp_matrix[j][temp_vec] = 1\n",
        "    # Vector of feature appearances\n",
        "    hist_ftr_vec[i][:] = np.sum(temp_matrix,axis = 0)\n",
        "    mean_ftr_vec[i]    = np.mean(Results[i][l])\n",
        "    \n",
        "# Printing results:\n",
        "print('Linear Classifier')\n",
        "print(str(np.mean(np.array(Results[0]['accuracy_L']))*100) + '+/-' + str(np.std(np.array(Results[0]['accuracy_L']))*100))\n",
        "print('Number of features = ' + str(mean_ftr_vec[0]))\n",
        "\n",
        "print('Logistic Regression Classifier')\n",
        "print(str(np.mean(np.array(Results[1]['accuracy_LogR']))*100) + '+/-' + str(np.std(np.array(Results[1]['accuracy_LogR']))*100))\n",
        "print('Number of features = ' + str(mean_ftr_vec[1]))\n",
        "\n",
        "print('Linear SVM Classifier')\n",
        "print(str(np.mean(np.array(Results[2]['accuracy_lSVM']))*100) + '+/-' + str(np.std(np.array(Results[2]['accuracy_lSVM']))*100))\n",
        "print('Number of features = ' + str(mean_ftr_vec[2]))"
      ],
      "execution_count": 0,
      "outputs": [
        {
          "output_type": "stream",
          "text": [
            "Linear Classifier\n",
            "89.33333333333331+/-12.36482466066094\n",
            "Number of features = [8000.]\n",
            "Logistic Regression Classifier\n",
            "89.33333333333331+/-13.695092389449426\n",
            "Number of features = [4500.]\n",
            "Linear SVM Classifier\n",
            "80.66666666666666+/-11.115554667022044\n",
            "Number of features = [9500.]\n"
          ],
          "name": "stdout"
        }
      ]
    },
    {
      "cell_type": "markdown",
      "metadata": {
        "id": "wkO3f6hu7ngk",
        "colab_type": "text"
      },
      "source": [
        "Region-based histogram building"
      ]
    },
    {
      "cell_type": "code",
      "metadata": {
        "id": "vyrAeXrS7qtC",
        "colab_type": "code",
        "colab": {}
      },
      "source": [
        "n_regions    = 21\n",
        "G            = 1500           # Number of cetroid from BoCF dictionary learning\n",
        "expected_feat= G*n_partitions # Expected number of features per region and fold\n",
        "size         = len(list(Results[0].values())[3][0])\n",
        "features     = np.arange(1,size+1,1)\n",
        "region_vec   = np.arange(0,n_regions+1)*G\n",
        "hist_region  = np.zeros((n_regions,3))\n",
        "hist_region_s= np.zeros((n_regions,3))\n",
        "region_vec_p = np.arange(1,n_regions+1)\n",
        "hist_ftr_mat = np.concatenate((hist_ftr_vec,features.reshape(size,1).T),axis = 0).T\n",
        "# Histogram with prunning\n",
        "idx                 = hist_ftr_vec >= 3 \n",
        "hist_ftr_vec_sampled= np.where(idx,hist_ftr_vec,hist_ftr_vec*0)\n",
        "hist_ftr_mat_sampled= np.concatenate((hist_ftr_vec_sampled,features.reshape(size,1).T),axis = 0).T\n",
        "# Now, histograms per region are obtained\n",
        "for i in range(0,len(region_vec)-1):\n",
        "  for j in range(0,hist_ftr_mat.shape[1]-1):          \n",
        "      hist_region[i,j]  = np.sum(hist_ftr_mat[region_vec[i]:region_vec[i+1],j])/expected_feat\n",
        "      hist_region_s[i,j]= np.sum(hist_ftr_mat_sampled[region_vec[i]:region_vec[i+1],j])/expected_feat"
      ],
      "execution_count": 0,
      "outputs": []
    },
    {
      "cell_type": "code",
      "metadata": {
        "id": "4n4lytUM7wIf",
        "colab_type": "code",
        "outputId": "e2785921-1b30-426c-dca3-0943d004a04d",
        "colab": {
          "base_uri": "https://localhost:8080/",
          "height": 312
        }
      },
      "source": [
        "# Plotting the histograms before and after apperance criteria is applied\n",
        "plt.figure()\n",
        "plt.title('Kimia 99-Shape DB')\n",
        "plt.bar(region_vec_p,hist_region[:,1], label = 'Before')\n",
        "plt.bar(region_vec_p,hist_region_s[:,1], label = 'After')\n",
        "plt.legend()\n",
        "plt.grid(linestyle='--')\n",
        "plt.ylabel('Percentage of features')\n",
        "plt.xlabel('Regions')"
      ],
      "execution_count": 0,
      "outputs": [
        {
          "output_type": "execute_result",
          "data": {
            "text/plain": [
              "Text(0.5, 0, 'Regions')"
            ]
          },
          "metadata": {
            "tags": []
          },
          "execution_count": 30
        },
        {
          "output_type": "display_data",
          "data": {
            "image/png": "[encoded data removed]",
            "text/plain": [
              "<Figure size 432x288 with 1 Axes>"
            ]
          },
          "metadata": {
            "tags": [],
            "needs_background": "light"
          }
        }
      ]
    },
    {
      "cell_type": "markdown",
      "metadata": {
        "id": "yqGtIF1671an",
        "colab_type": "text"
      },
      "source": [
        "Feature selection indexing over the input matrix"
      ]
    },
    {
      "cell_type": "code",
      "metadata": {
        "id": "nb-BhjsP72xV",
        "colab_type": "code",
        "colab": {}
      },
      "source": [
        "# Input matrix indexing\n",
        "Xr = X.values\n",
        "# Reduced matrix from feature selection indices\n",
        "Xr = Xr[:,idx[1,:]]"
      ],
      "execution_count": 0,
      "outputs": []
    },
    {
      "cell_type": "markdown",
      "metadata": {
        "id": "Cfa57ARv76AO",
        "colab_type": "text"
      },
      "source": [
        "# **Step 4: Centered Kernel Alignment projection**"
      ]
    },
    {
      "cell_type": "markdown",
      "metadata": {
        "id": "4UaXpAXy79En",
        "colab_type": "text"
      },
      "source": [
        "Model description"
      ]
    },
    {
      "cell_type": "code",
      "metadata": {
        "id": "ZRXIkd_H791X",
        "colab_type": "code",
        "colab": {}
      },
      "source": [
        "# Matrix declaration to store train/test matrices and their labels, and projection matrices from CKA\n",
        "X_train_cka = []\n",
        "X_test_cka  = []\n",
        "y_train_cka = []\n",
        "y_test_cka  = []\n",
        "W_cka_L     = []\n",
        "W_cka_LogR  = []\n",
        "W_cka_lSVM  = []\n",
        "    \n",
        "# Step declaration\n",
        "steps = [\n",
        "        [('Preprocessing', StandardScaler()),\n",
        "          ('Projection', MiniBatchCKA(Q = 0.95)),\n",
        "          ('Preprocessing2',StandardScaler()),\n",
        "          ('Classification',SGDClassifier())],      # Clasificador Lineal\n",
        "        [('Preprocessing', StandardScaler()),\n",
        "          ('Projection', MiniBatchCKA(Q = 0.95)),\n",
        "          ('Preprocessing2',StandardScaler()),\n",
        "          ('Classification',LogisticRegression())], # Regresion Logistica\n",
        "        [('Preprocessing', StandardScaler()),\n",
        "          ('Projection', MiniBatchCKA(Q = 0.95)),\n",
        "          ('Preprocessing2',StandardScaler()),\n",
        "          ('Classification',LinearSVC())],          # Maquina de Vectores de Soporte\n",
        "        ]\n",
        "    \n",
        "# Grid declaration\n",
        "parameters = [\n",
        "            {'Classification__penalty': ['l1', 'l2', 'elasticnet'] },\n",
        "            {'Classification__C': [0.01,0.1,1,10]},\n",
        "            {'Classification__C': [0.1,1,10,100,1000]}\n",
        "            ]\n",
        "\n",
        "# Model labels\n",
        "label_models = ['LinearCKA','LogisticRegressionCKA','LinearSVCKA']"
      ],
      "execution_count": 0,
      "outputs": []
    },
    {
      "cell_type": "code",
      "metadata": {
        "id": "_fRb7ZM28dMZ",
        "colab_type": "code",
        "colab": {}
      },
      "source": [
        "# Directory to save results and plots\n",
        "\n",
        "rslt_dir     = img_dir + '/NLDR/Animals_DB_CKA_Results/Results_CKA_NLDR_Py'\n",
        "img_path     = img_dir + '/NLDR/Animals_DB_CKA_Results'"
      ],
      "execution_count": 0,
      "outputs": []
    },
    {
      "cell_type": "markdown",
      "metadata": {
        "id": "U8_z4Y4y8h5O",
        "colab_type": "text"
      },
      "source": [
        "Loop to optimize CKA projection"
      ]
    },
    {
      "cell_type": "code",
      "metadata": {
        "id": "Az9MblAW8irT",
        "colab_type": "code",
        "outputId": "365d67fc-a2ee-4585-8b60-13d6b56e95d0",
        "colab": {
          "base_uri": "https://localhost:8080/",
          "height": 1000
        }
      },
      "source": [
        "# Traininig/Testing loop\n",
        "fold = 0\n",
        "\n",
        "for train_index, test_index in tqdm(sss.split(X,y)):\n",
        "    # Training/testing index storage\n",
        "    train_idx += [train_index]\n",
        "    test_idx  += [test_index]\n",
        "    \n",
        "    # Number of partitions flag\n",
        "    fold = fold + 1\n",
        "    print(\"Iteration = \", str(fold) +'/'+ str(n_partitions))\n",
        "    \n",
        "    # Iteration file name \n",
        "    filename = img_path + \"/Fold\" + str(fold)\n",
        "\n",
        "    # Train/Test partition and matrix storing to apply CKA over them for \n",
        "    # visualization\n",
        "    X_train, X_test = Xr[train_index,:], Xr[test_index,:]\n",
        "    y_train, y_test = y[train_index], y[test_index]\n",
        "    X_train_cka += [X_train]\n",
        "    X_test_cka  += [X_test]\n",
        "    y_train_cka += [y_train]\n",
        "    y_test_cka  += [y_test]\n",
        "\n",
        "    # ---------------------------------------------------------------------------------------------------------------------------\n",
        "    # Training\n",
        "    \n",
        "    # Linear\n",
        "    print('Linear Model')\n",
        "    # Using GridSearchCV \n",
        "    # hs_Lineal = GridSearchCV(Pipeline(steps[0]), parameters[0], n_jobs = 6, cv = 5, scoring = 'balanced_accuracy', verbose = 50)\n",
        "    # Using RandomizedSearchCV\n",
        "    hs_Lineal = RandomizedSearchCV(Pipeline(steps[0]), param_distributions=parameters[0],n_iter=10, cv=5, iid=False, n_jobs=-1)\n",
        "    hs_Lineal.fit(X_train,y_train)\n",
        "    # Projection matrix from CKA\n",
        "    W_cka_L += [hs_Lineal.best_estimator_.named_steps['Projection'].Wcka]\n",
        "\n",
        "\n",
        "    # Logistic Regression\n",
        "    print('Logistic Regression Model')\n",
        "    # Usaing GridSearchCV \n",
        "    # hs_LogR = GridSearchCV(Pipeline(steps[1]), parameters[1], n_jobs = 6, cv = 5, scoring = 'balanced_accuracy', verbose = 50)\n",
        "    # Using RandomizedSearchCV\n",
        "    hs_LogR = RandomizedSearchCV(Pipeline(steps[1]), param_distributions=parameters[1],n_iter=10, cv=5, iid=False,n_jobs=-1)\n",
        "    hs_LogR.fit(X_train,y_train)\n",
        "    # Projection matrix from CKA\n",
        "    W_cka_LogR += [hs_LogR.best_estimator_.named_steps['Projection'].Wcka]\n",
        "  \n",
        "\n",
        "    # Linear SVM\n",
        "    print('Linear SVM Model')\n",
        "    # Using GridSearchCV \n",
        "    #hs_lSVM = GridSearchCV(Pipeline(steps[2]), parameters[2], n_jobs = 6, cv = 5, scoring = 'balanced_accuracy', verbose = 50)\n",
        "    # Using RandomizedSearchCV\n",
        "    hs_lSVM = RandomizedSearchCV(Pipeline(steps[2]), param_distributions=parameters[2],n_iter=10, cv=5, iid=False, n_jobs=-1)  \n",
        "    hs_lSVM.fit(X_train,y_train)\n",
        "    # Projection matrix from CKA\n",
        "    W_cka_lSVM += [hs_lSVM.best_estimator_.named_steps['Projection'].Wcka]\n",
        "\n",
        "    # ---------------------------------------------------------------------------------------------------------------------------\n",
        "    # Validation\n",
        "    \n",
        "    # Linear\n",
        "    y_pred_L           = hs_Lineal.best_estimator_.predict(X_test)\n",
        "    accuracy_L[fold-1] = accuracy_score(y_test,y_pred_L)\n",
        "    cm_temp            = confusion_matrix(y_test,y_pred_L)\n",
        "    cm_L[fold-1,:,:]   = 100*cm_temp.astype('float') / cm_temp.sum(axis=1)[:, np.newaxis]\n",
        "    plot_confusion_matrix(y_test, y_pred_L, classes=np.unique(y),normalize=True,title='ACC = %.1f %% Fold %d' % (100*accuracy_L[fold-1],fold) + '_'+ label_models[0])\n",
        "    plt.autoscale()\n",
        "    save_fig(img_path,label_models[0]+'_Fold'+str(fold))                      \n",
        "    plt.show()\n",
        "    cr_L += [classification_report(y_test,y_pred_L)]\n",
        "    print(cr_L[-1])\n",
        "    # Best model storage\n",
        "    # best_mod_L += [hs_Lineal.best_estimator_, accuracy_L,cm_L,cr_L, sel_fts_L]\n",
        "    # best_mod_L += [hs_Lineal.best_estimator_]\n",
        "    best_pms_L += [hs_Lineal.best_params_,accuracy_L,cm_L,cr_L,W_cka_L]\n",
        "    joblib.dump(best_pms_L, filename + \"LinealCKA\" + \".pkl\")\n",
        "\n",
        "\n",
        "    # Logistic Regression\n",
        "    y_pred_LogR          = hs_LogR.best_estimator_.predict(X_test)\n",
        "    accuracy_LogR[fold-1]= accuracy_score(y_test,y_pred_LogR)\n",
        "    cm_temp              = confusion_matrix(y_test,y_pred_LogR)\n",
        "    cm_LogR[fold-1,:,:]  = 100*cm_temp.astype('float') / cm_temp.sum(axis=1)[:, np.newaxis]\n",
        "    plot_confusion_matrix(y_test, y_pred_LogR, classes=np.unique(y),normalize=True,title='ACC = %.1f %% Fold %d' % (100*accuracy_LogR[fold-1],fold) + '_'+ label_models[1])\n",
        "    plt.autoscale()\n",
        "    save_fig(img_path,label_models[1]+'_Fold'+str(fold))                      \n",
        "    plt.show()\n",
        "    cr_LogR += [classification_report(y_test,y_pred_LogR)]\n",
        "    print(cr_LogR[-1])\n",
        "    # Best model storage\n",
        "    # best_mod_LogR += [hs_LogR.best_estimator_, accuracy_LogR,cm_LogR,cr_LogR, sel_fts_LogR]\n",
        "    # best_mod_LogR += [hs_LogR.best_estimator_]\n",
        "    best_pms_LogR += [hs_LogR.best_params_,accuracy_LogR,cm_LogR,cr_LogR,W_cka_LogR]\n",
        "    joblib.dump(best_pms_LogR, filename + \"LogRCKA\" + \".pkl\")\n",
        "\n",
        "\n",
        "    # Linear SVM\n",
        "    y_pred_lSVM          = hs_lSVM.best_estimator_.predict(X_test)\n",
        "    accuracy_lSVM[fold-1]= accuracy_score(y_test,y_pred_lSVM)\n",
        "    cm_temp              = confusion_matrix(y_test,y_pred_lSVM)\n",
        "    cm_LogR[fold-1,:,:]  = 100*cm_temp.astype('float') / cm_temp.sum(axis=1)[:, np.newaxis]\n",
        "    plot_confusion_matrix(y_test, y_pred_lSVM, classes=np.unique(y),normalize=True,title='ACC = %.1f %% Fold %d' % (100*accuracy_lSVM[fold-1],fold) + '_'+ label_models[2])\n",
        "    plt.autoscale()\n",
        "    save_fig(img_path,label_models[2]+'_Fold'+str(fold))                      \n",
        "    plt.show()\n",
        "    cr_lSVM += [classification_report(y_test,y_pred_lSVM)]\n",
        "    print(cr_lSVM[-1])\n",
        "    # Best model storage\n",
        "    # best_mod_lSVM += [hs_lSVM.best_estimator_, accuracy_lSVM,cm_lSVM,cr_lSVM, sel_fts_lSVM]\n",
        "    # best_mod_lSVM += [hs_lSVM.best_estimator_]\n",
        "    best_pms_lSVM += [hs_lSVM.best_params_,accuracy_lSVM,cm_lSVM,cr_lSVM,W_cka_lSVM]\n",
        "    joblib.dump(best_pms_lSVM, filename + \"lSVMCKA\" + \".pkl\")"
      ],
      "execution_count": 0,
      "outputs": [
        {
          "output_type": "stream",
          "text": [
            "\r0it [00:00, ?it/s]"
          ],
          "name": "stderr"
        },
        {
          "output_type": "stream",
          "text": [
            "Iteration =  1/3\n",
            "Linear Model\n",
            "it:1/50---cost:-1.71e+00--- elapsed:0.03 [s]\n",
            "\n"
          ],
          "name": "stdout"
        },
        {
          "output_type": "display_data",
          "data": {
            "image/png": "[encoded data removed]",
            "text/plain": [
              "<Figure size 432x288 with 1 Axes>"
            ]
          },
          "metadata": {
            "tags": [],
            "needs_background": "light"
          }
        },
        {
          "output_type": "stream",
          "text": [
            "Logistic Regression Model\n",
            "it:1/50---cost:-1.69e+00--- elapsed:0.03 [s]\n",
            "\n"
          ],
          "name": "stdout"
        },
        {
          "output_type": "display_data",
          "data": {
            "image/png": "[encoded data removed]",
            "text/plain": [
              "<Figure size 432x288 with 1 Axes>"
            ]
          },
          "metadata": {
            "tags": [],
            "needs_background": "light"
          }
        },
        {
          "output_type": "stream",
          "text": [
            "Linear SVM Model\n",
            "it:1/50---cost:-1.76e+00--- elapsed:0.03 [s]\n",
            "\n"
          ],
          "name": "stdout"
        },
        {
          "output_type": "display_data",
          "data": {
            "image/png": "[encoded data removed]",
            "text/plain": [
              "<Figure size 432x288 with 1 Axes>"
            ]
          },
          "metadata": {
            "tags": [],
            "needs_background": "light"
          }
        },
        {
          "output_type": "stream",
          "text": [
            "Guardando... LinearCKA_Fold1\n"
          ],
          "name": "stdout"
        },
        {
          "output_type": "display_data",
          "data": {
            "image/png": "[encoded data removed]",
            "text/plain": [
              "<Figure size 432x288 with 2 Axes>"
            ]
          },
          "metadata": {
            "tags": [],
            "needs_background": "light"
          }
        },
        {
          "output_type": "stream",
          "text": [
            "              precision    recall  f1-score   support\n",
            "\n",
            "           1       1.00      0.40      0.57         5\n",
            "           2       0.71      1.00      0.83         5\n",
            "           3       1.00      1.00      1.00         6\n",
            "           4       1.00      1.00      1.00         6\n",
            "           5       0.86      1.00      0.92         6\n",
            "           6       1.00      1.00      1.00         5\n",
            "           7       1.00      1.00      1.00         6\n",
            "           8       1.00      1.00      1.00         5\n",
            "           9       1.00      1.00      1.00         6\n",
            "\n",
            "    accuracy                           0.94        50\n",
            "   macro avg       0.95      0.93      0.93        50\n",
            "weighted avg       0.95      0.94      0.93        50\n",
            "\n",
            "Guardando... LogisticRegressionCKA_Fold1\n"
          ],
          "name": "stdout"
        },
        {
          "output_type": "display_data",
          "data": {
            "image/png": "[encoded data removed]",
            "text/plain": [
              "<Figure size 432x288 with 2 Axes>"
            ]
          },
          "metadata": {
            "tags": [],
            "needs_background": "light"
          }
        },
        {
          "output_type": "stream",
          "text": [
            "              precision    recall  f1-score   support\n",
            "\n",
            "           1       1.00      1.00      1.00         5\n",
            "           2       1.00      1.00      1.00         5\n",
            "           3       1.00      1.00      1.00         6\n",
            "           4       1.00      1.00      1.00         6\n",
            "           5       1.00      1.00      1.00         6\n",
            "           6       1.00      1.00      1.00         5\n",
            "           7       1.00      1.00      1.00         6\n",
            "           8       1.00      1.00      1.00         5\n",
            "           9       1.00      1.00      1.00         6\n",
            "\n",
            "    accuracy                           1.00        50\n",
            "   macro avg       1.00      1.00      1.00        50\n",
            "weighted avg       1.00      1.00      1.00        50\n",
            "\n",
            "Guardando... LinearSVCKA_Fold1\n"
          ],
          "name": "stdout"
        },
        {
          "output_type": "display_data",
          "data": {
            "image/png": "[encoded data removed]",
            "text/plain": [
              "<Figure size 432x288 with 2 Axes>"
            ]
          },
          "metadata": {
            "tags": [],
            "needs_background": "light"
          }
        },
        {
          "output_type": "stream",
          "text": [
            "\r1it [00:05,  5.16s/it]"
          ],
          "name": "stderr"
        },
        {
          "output_type": "stream",
          "text": [
            "              precision    recall  f1-score   support\n",
            "\n",
            "           1       1.00      1.00      1.00         5\n",
            "           2       1.00      1.00      1.00         5\n",
            "           3       1.00      1.00      1.00         6\n",
            "           4       1.00      1.00      1.00         6\n",
            "           5       1.00      1.00      1.00         6\n",
            "           6       1.00      1.00      1.00         5\n",
            "           7       1.00      1.00      1.00         6\n",
            "           8       1.00      1.00      1.00         5\n",
            "           9       1.00      1.00      1.00         6\n",
            "\n",
            "    accuracy                           1.00        50\n",
            "   macro avg       1.00      1.00      1.00        50\n",
            "weighted avg       1.00      1.00      1.00        50\n",
            "\n",
            "Iteration =  2/3\n",
            "Linear Model\n",
            "it:1/50---cost:-1.72e+00--- elapsed:0.03 [s]\n",
            "\n"
          ],
          "name": "stdout"
        },
        {
          "output_type": "display_data",
          "data": {
            "image/png": "[encoded data removed]",
            "text/plain": [
              "<Figure size 432x288 with 1 Axes>"
            ]
          },
          "metadata": {
            "tags": [],
            "needs_background": "light"
          }
        },
        {
          "output_type": "stream",
          "text": [
            "Logistic Regression Model\n",
            "it:1/50---cost:-1.70e+00--- elapsed:0.03 [s]\n",
            "\n"
          ],
          "name": "stdout"
        },
        {
          "output_type": "display_data",
          "data": {
            "image/png": "[encoded data removed]",
            "text/plain": [
              "<Figure size 432x288 with 1 Axes>"
            ]
          },
          "metadata": {
            "tags": [],
            "needs_background": "light"
          }
        },
        {
          "output_type": "stream",
          "text": [
            "Linear SVM Model\n",
            "it:1/50---cost:-1.79e+00--- elapsed:0.03 [s]\n",
            "\n"
          ],
          "name": "stdout"
        },
        {
          "output_type": "display_data",
          "data": {
            "image/png": "[encoded data removed]",
            "text/plain": [
              "<Figure size 432x288 with 1 Axes>"
            ]
          },
          "metadata": {
            "tags": [],
            "needs_background": "light"
          }
        },
        {
          "output_type": "stream",
          "text": [
            "Guardando... LinearCKA_Fold2\n"
          ],
          "name": "stdout"
        },
        {
          "output_type": "display_data",
          "data": {
            "image/png": "[encoded data removed]",
            "text/plain": [
              "<Figure size 432x288 with 2 Axes>"
            ]
          },
          "metadata": {
            "tags": [],
            "needs_background": "light"
          }
        },
        {
          "output_type": "stream",
          "text": [
            "              precision    recall  f1-score   support\n",
            "\n",
            "           1       1.00      0.83      0.91         6\n",
            "           2       1.00      1.00      1.00         5\n",
            "           3       1.00      1.00      1.00         5\n",
            "           4       1.00      1.00      1.00         5\n",
            "           5       1.00      1.00      1.00         6\n",
            "           6       0.86      1.00      0.92         6\n",
            "           7       1.00      1.00      1.00         6\n",
            "           8       1.00      1.00      1.00         5\n",
            "           9       1.00      1.00      1.00         6\n",
            "\n",
            "    accuracy                           0.98        50\n",
            "   macro avg       0.98      0.98      0.98        50\n",
            "weighted avg       0.98      0.98      0.98        50\n",
            "\n",
            "Guardando... LogisticRegressionCKA_Fold2\n"
          ],
          "name": "stdout"
        },
        {
          "output_type": "display_data",
          "data": {
            "image/png": "[encoded data removed]",
            "text/plain": [
              "<Figure size 432x288 with 2 Axes>"
            ]
          },
          "metadata": {
            "tags": [],
            "needs_background": "light"
          }
        },
        {
          "output_type": "stream",
          "text": [
            "              precision    recall  f1-score   support\n",
            "\n",
            "           1       1.00      1.00      1.00         6\n",
            "           2       1.00      1.00      1.00         5\n",
            "           3       1.00      1.00      1.00         5\n",
            "           4       1.00      1.00      1.00         5\n",
            "           5       1.00      1.00      1.00         6\n",
            "           6       1.00      1.00      1.00         6\n",
            "           7       1.00      1.00      1.00         6\n",
            "           8       1.00      1.00      1.00         5\n",
            "           9       1.00      1.00      1.00         6\n",
            "\n",
            "    accuracy                           1.00        50\n",
            "   macro avg       1.00      1.00      1.00        50\n",
            "weighted avg       1.00      1.00      1.00        50\n",
            "\n",
            "Guardando... LinearSVCKA_Fold2\n"
          ],
          "name": "stdout"
        },
        {
          "output_type": "display_data",
          "data": {
            "image/png": "[encoded data removed]",
            "text/plain": [
              "<Figure size 432x288 with 2 Axes>"
            ]
          },
          "metadata": {
            "tags": [],
            "needs_background": "light"
          }
        },
        {
          "output_type": "stream",
          "text": [
            "\r2it [00:10,  5.17s/it]"
          ],
          "name": "stderr"
        },
        {
          "output_type": "stream",
          "text": [
            "              precision    recall  f1-score   support\n",
            "\n",
            "           1       1.00      1.00      1.00         6\n",
            "           2       1.00      1.00      1.00         5\n",
            "           3       1.00      1.00      1.00         5\n",
            "           4       1.00      1.00      1.00         5\n",
            "           5       1.00      1.00      1.00         6\n",
            "           6       1.00      1.00      1.00         6\n",
            "           7       1.00      1.00      1.00         6\n",
            "           8       1.00      1.00      1.00         5\n",
            "           9       1.00      1.00      1.00         6\n",
            "\n",
            "    accuracy                           1.00        50\n",
            "   macro avg       1.00      1.00      1.00        50\n",
            "weighted avg       1.00      1.00      1.00        50\n",
            "\n",
            "Iteration =  3/3\n",
            "Linear Model\n",
            "it:1/50---cost:-1.75e+00--- elapsed:0.03 [s]\n",
            "\n"
          ],
          "name": "stdout"
        },
        {
          "output_type": "display_data",
          "data": {
            "image/png": "[encoded data removed]",
            "text/plain": [
              "<Figure size 432x288 with 1 Axes>"
            ]
          },
          "metadata": {
            "tags": [],
            "needs_background": "light"
          }
        },
        {
          "output_type": "stream",
          "text": [
            "Logistic Regression Model\n",
            "it:1/50---cost:-1.74e+00--- elapsed:0.03 [s]\n",
            "\n"
          ],
          "name": "stdout"
        },
        {
          "output_type": "display_data",
          "data": {
            "image/png": "[encoded data removed]",
            "text/plain": [
              "<Figure size 432x288 with 1 Axes>"
            ]
          },
          "metadata": {
            "tags": [],
            "needs_background": "light"
          }
        },
        {
          "output_type": "stream",
          "text": [
            "Linear SVM Model\n",
            "it:1/50---cost:-1.75e+00--- elapsed:0.03 [s]\n",
            "\n"
          ],
          "name": "stdout"
        },
        {
          "output_type": "display_data",
          "data": {
            "image/png": "[encoded data removed]",
            "text/plain": [
              "<Figure size 432x288 with 1 Axes>"
            ]
          },
          "metadata": {
            "tags": [],
            "needs_background": "light"
          }
        },
        {
          "output_type": "stream",
          "text": [
            "Guardando... LinearCKA_Fold3\n"
          ],
          "name": "stdout"
        },
        {
          "output_type": "display_data",
          "data": {
            "image/png": "[encoded data removed]",
            "text/plain": [
              "<Figure size 432x288 with 2 Axes>"
            ]
          },
          "metadata": {
            "tags": [],
            "needs_background": "light"
          }
        },
        {
          "output_type": "stream",
          "text": [
            "              precision    recall  f1-score   support\n",
            "\n",
            "           1       1.00      0.80      0.89         5\n",
            "           2       1.00      1.00      1.00         6\n",
            "           3       1.00      1.00      1.00         6\n",
            "           4       1.00      1.00      1.00         6\n",
            "           5       0.83      1.00      0.91         5\n",
            "           6       1.00      1.00      1.00         5\n",
            "           7       1.00      1.00      1.00         6\n",
            "           8       1.00      1.00      1.00         6\n",
            "           9       1.00      1.00      1.00         5\n",
            "\n",
            "    accuracy                           0.98        50\n",
            "   macro avg       0.98      0.98      0.98        50\n",
            "weighted avg       0.98      0.98      0.98        50\n",
            "\n",
            "Guardando... LogisticRegressionCKA_Fold3\n"
          ],
          "name": "stdout"
        },
        {
          "output_type": "display_data",
          "data": {
            "image/png": "[encoded data removed]",
            "text/plain": [
              "<Figure size 432x288 with 2 Axes>"
            ]
          },
          "metadata": {
            "tags": [],
            "needs_background": "light"
          }
        },
        {
          "output_type": "stream",
          "text": [
            "              precision    recall  f1-score   support\n",
            "\n",
            "           1       1.00      1.00      1.00         5\n",
            "           2       1.00      1.00      1.00         6\n",
            "           3       1.00      1.00      1.00         6\n",
            "           4       1.00      1.00      1.00         6\n",
            "           5       1.00      1.00      1.00         5\n",
            "           6       1.00      1.00      1.00         5\n",
            "           7       1.00      1.00      1.00         6\n",
            "           8       1.00      1.00      1.00         6\n",
            "           9       1.00      1.00      1.00         5\n",
            "\n",
            "    accuracy                           1.00        50\n",
            "   macro avg       1.00      1.00      1.00        50\n",
            "weighted avg       1.00      1.00      1.00        50\n",
            "\n",
            "Guardando... LinearSVCKA_Fold3\n"
          ],
          "name": "stdout"
        },
        {
          "output_type": "display_data",
          "data": {
            "image/png": "[encoded data removed]",
            "text/plain": [
              "<Figure size 432x288 with 2 Axes>"
            ]
          },
          "metadata": {
            "tags": [],
            "needs_background": "light"
          }
        },
        {
          "output_type": "stream",
          "text": [
            "3it [00:15,  5.20s/it]"
          ],
          "name": "stderr"
        },
        {
          "output_type": "stream",
          "text": [
            "              precision    recall  f1-score   support\n",
            "\n",
            "           1       1.00      1.00      1.00         5\n",
            "           2       1.00      1.00      1.00         6\n",
            "           3       1.00      1.00      1.00         6\n",
            "           4       1.00      1.00      1.00         6\n",
            "           5       1.00      1.00      1.00         5\n",
            "           6       1.00      1.00      1.00         5\n",
            "           7       1.00      1.00      1.00         6\n",
            "           8       1.00      1.00      1.00         6\n",
            "           9       1.00      1.00      1.00         5\n",
            "\n",
            "    accuracy                           1.00        50\n",
            "   macro avg       1.00      1.00      1.00        50\n",
            "weighted avg       1.00      1.00      1.00        50\n",
            "\n"
          ],
          "name": "stdout"
        },
        {
          "output_type": "stream",
          "text": [
            "\n"
          ],
          "name": "stderr"
        }
      ]
    },
    {
      "cell_type": "markdown",
      "metadata": {
        "id": "UJTyCjyO9Pgn",
        "colab_type": "text"
      },
      "source": [
        "Storing the CKA projection results"
      ]
    },
    {
      "cell_type": "code",
      "metadata": {
        "id": "rVADABzF9VT-",
        "colab_type": "code",
        "outputId": "b073f2ed-cc9d-442c-ab90-9654fce0841e",
        "colab": {
          "base_uri": "https://localhost:8080/",
          "height": 34
        }
      },
      "source": [
        "# Results dictionary creation\n",
        "L_dict = {'accuracy_L': accuracy_L,\n",
        "          'cm_L': cm_L,\n",
        "          'cr_L': cr_L,\n",
        "          'W_cka_L': W_cka_L,\n",
        "          'X_train_cka': X_train_cka,\n",
        "          'X_test_cka': X_test_cka,\n",
        "          'y_train_cka':y_train_cka,\n",
        "          'y_test_cka':y_test_cka}\n",
        "\n",
        "LogR_dict = {'accuracy_LogR': accuracy_LogR,\n",
        "            'cm_LogR': cm_LogR,\n",
        "            'cr_LogR': cr_LogR,\n",
        "            'W_cka_LogR': W_cka_LogR,\n",
        "            'X_train_cka': X_train_cka,\n",
        "            'X_test_cka': X_test_cka,\n",
        "            'y_train_cka':y_train_cka,\n",
        "            'y_test_cka':y_test_cka}\n",
        "\n",
        "lSVM_dict = {'accuracy_lSVM': accuracy_lSVM,\n",
        "            'cm_lSVM': cm_lSVM,\n",
        "            'cr_lSVM': cr_lSVM,\n",
        "            'W_cka_lSVM': W_cka_lSVM,\n",
        "            'X_train_cka': X_train_cka,\n",
        "            'X_test_cka': X_test_cka,\n",
        "            'y_train_cka':y_train_cka,\n",
        "            'y_test_cka':y_test_cka}\n",
        "\n",
        "Results = [L_dict, LogR_dict, lSVM_dict]\n",
        "\n",
        "joblib.dump(Results, rslt_dir + \".pkl\")"
      ],
      "execution_count": 0,
      "outputs": [
        {
          "output_type": "execute_result",
          "data": {
            "text/plain": [
              "['/content/Databases/Kimia99Shape_DB/NLDR/Kimia99Shape_DB_CKA_Results/Results_CKA_NLDR_Py.pkl']"
            ]
          },
          "metadata": {
            "tags": []
          },
          "execution_count": 41
        }
      ]
    },
    {
      "cell_type": "markdown",
      "metadata": {
        "id": "uL06-5Rb9Xuc",
        "colab_type": "text"
      },
      "source": [
        "Average result printing"
      ]
    },
    {
      "cell_type": "code",
      "metadata": {
        "id": "ja9Vmi3x9YdC",
        "colab_type": "code",
        "outputId": "465a174d-9c49-4448-939a-4160852d63c0",
        "colab": {
          "base_uri": "https://localhost:8080/",
          "height": 119
        }
      },
      "source": [
        "print('Linear Classifier')\n",
        "print(str(np.mean(np.array(Results[0]['accuracy_L']))*100) + '+/-' + str(np.std(np.array(Results[0]['accuracy_L']))*100))\n",
        "\n",
        "print('Logistic Regression Classifier')\n",
        "print(str(np.mean(np.array(Results[1]['accuracy_LogR']))*100) + '+/-' + str(np.std(np.array(Results[1]['accuracy_LogR']))*100))\n",
        "\n",
        "print('Linear SVM Classifier')\n",
        "print(str(np.mean(np.array(Results[2]['accuracy_lSVM']))*100) + '+/-' + str(np.std(np.array(Results[2]['accuracy_lSVM']))*100))"
      ],
      "execution_count": 0,
      "outputs": [
        {
          "output_type": "stream",
          "text": [
            "Linear Classifier\n",
            "96.66666666666667+/-1.8856180831641285\n",
            "Logistic Regression Classifier\n",
            "100.0+/-0.0\n",
            "Linear SVM Classifier\n",
            "100.0+/-0.0\n"
          ],
          "name": "stdout"
        }
      ]
    },
    {
      "cell_type": "markdown",
      "metadata": {
        "id": "3J8Wj3_g9cVE",
        "colab_type": "text"
      },
      "source": [
        "Projection matrix plotting"
      ]
    },
    {
      "cell_type": "code",
      "metadata": {
        "id": "aVk0gWFR9dBS",
        "colab_type": "code",
        "outputId": "56a4a7e7-2897-46de-efca-3d08301c7d0b",
        "colab": {
          "base_uri": "https://localhost:8080/",
          "height": 282
        }
      },
      "source": [
        "W    = Results[1]['W_cka_LogR'][0]\n",
        "Xp   = X_train_cka[0].dot(W)\n",
        "# Plotting the projection matrix\n",
        "plt.scatter(Xp[:,1],Xp[:,2],c = y_train_cka[0])"
      ],
      "execution_count": 0,
      "outputs": [
        {
          "output_type": "execute_result",
          "data": {
            "text/plain": [
              "<matplotlib.collections.PathCollection at 0x7fb1bc95fdd8>"
            ]
          },
          "metadata": {
            "tags": []
          },
          "execution_count": 49
        },
        {
          "output_type": "display_data",
          "data": {
            "image/png": "[encoded data removed]",
            "text/plain": [
              "<Figure size 432x288 with 1 Axes>"
            ]
          },
          "metadata": {
            "tags": [],
            "needs_background": "light"
          }
        }
      ]
    }
  ]
}